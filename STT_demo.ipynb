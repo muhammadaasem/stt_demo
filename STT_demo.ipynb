{
 "cells": [
  {
   "cell_type": "markdown",
   "metadata": {},
   "source": [
    "# Watson Assistant Bot v1"
   ]
  },
  {
   "cell_type": "code",
   "execution_count": 1,
   "metadata": {},
   "outputs": [],
   "source": [
    "import json, sys,csv, os, shutil, datetime, tqdm\n",
    "\n",
    "from ibm_watson import SpeechToTextV1\n",
    "from ibm_cloud_sdk_core.authenticators import IAMAuthenticator\n",
    "\n",
    "from __future__ import print_function"
   ]
  },
  {
   "cell_type": "markdown",
   "metadata": {
    "tags": []
   },
   "source": [
    "## Declarations"
   ]
  },
  {
   "cell_type": "markdown",
   "metadata": {},
   "source": [
    "### Parameters"
   ]
  },
  {
   "cell_type": "code",
   "execution_count": 2,
   "metadata": {},
   "outputs": [],
   "source": [
    "path_to_json_file=\"credentials/ibm-credentials_STT.env\"\n",
    "os.path.isfile(path_to_json_file)\n",
    "customization_id='298cc13e-f6ec-4532-84a4-5ad0e726e2e6'"
   ]
  },
  {
   "cell_type": "markdown",
   "metadata": {},
   "source": [
    "### functions"
   ]
  },
  {
   "cell_type": "code",
   "execution_count": 3,
   "metadata": {},
   "outputs": [],
   "source": [
    "def json_to_dictionary(path_env_file):\n",
    "    dic={}\n",
    "    f = open(path_env_file, 'r')\n",
    "    for line in f:\n",
    "        tokens=line.split('=')\n",
    "        dic[tokens[0]]=tokens[1].replace('\\n','')\n",
    "    f.close()\n",
    "    return dic\n"
   ]
  },
  {
   "cell_type": "code",
   "execution_count": 4,
   "metadata": {},
   "outputs": [],
   "source": [
    "def logger(jsonOBJ, path_log_file='default_log_file.json',write_mode='w'):\n",
    "    #ts=str(datetime.datetime.now())\n",
    "    #jsonOBJ={\"ts\":ts,\"res\":jsonOBJ}\n",
    "    jsonOBJ = json.dumps(jsonOBJ, indent = 4)\n",
    "    logWriter = open(path_log_file, write_mode)\n",
    "\n",
    "    \n",
    "    logWriter.write(jsonOBJ)\n",
    "    logWriter.close()"
   ]
  },
  {
   "cell_type": "code",
   "execution_count": 5,
   "metadata": {},
   "outputs": [],
   "source": [
    "def recognize_audio(path_audio_file='audio-file2.flac',grammar_name=None,\n",
    "                    word_alternatives_threshold=0.9,\n",
    "                    keywords_threshold=None,\n",
    "                    keywords=None\n",
    "                   ):\n",
    "    ext_content_type={'flac':'audio/flac', 'wav':'audio/wav','mp3':'audio/mp3'}\n",
    "    ext=path_audio_file.split('.')[-1]\n",
    "    if keywords==None and keywords_threshold !=None:\n",
    "        print(f'Warning: Ignoring keywords_threshold:{keywords_threshold} because keywords is None')\n",
    "        keywords_threshold=None\n",
    "    #print (ext, ext_content_type[ext])\n",
    "    with open(path_audio_file,'rb') as audio_file:\n",
    "        speech_recognition_results = speech_to_text.recognize(audio=audio_file,\n",
    "                                                              content_type=ext_content_type[ext],\n",
    "                                                              word_alternatives_threshold=word_alternatives_threshold,\n",
    "                                                              keywords=keywords,#['colorado', 'tornado', 'tornadoes'],\n",
    "                                                              keywords_threshold=keywords_threshold,\n",
    "                                                              grammar_name=grammar_name,\n",
    "                                                              model='en-US_BroadbandModel',\n",
    "                                                              language_customization_id=customization_id,\n",
    "                                                             ).get_result()\n",
    "        return speech_recognition_results\n",
    "    "
   ]
  },
  {
   "cell_type": "markdown",
   "metadata": {},
   "source": [
    "## test: Speech to Text"
   ]
  },
  {
   "cell_type": "code",
   "execution_count": 6,
   "metadata": {},
   "outputs": [],
   "source": [
    "#def main():\n",
    "# env\n",
    "env_watson_stt=json_to_dictionary(path_to_json_file)\n",
    "\n",
    "# instantiate\n",
    "authenticator = IAMAuthenticator(env_watson_stt['SPEECH_TO_TEXT_APIKEY'])\n",
    "speech_to_text = SpeechToTextV1(\n",
    "    authenticator=authenticator\n",
    ")\n",
    "\n",
    "speech_to_text.set_service_url(env_watson_stt['SPEECH_TO_TEXT_URL'])"
   ]
  },
  {
   "cell_type": "code",
   "execution_count": 7,
   "metadata": {},
   "outputs": [],
   "source": [
    "#speech_models = speech_to_text.list_models().get_result()\n",
    "speech_model = speech_to_text.get_model('en-US_BroadbandModel').get_result()"
   ]
  },
  {
   "cell_type": "code",
   "execution_count": 8,
   "metadata": {},
   "outputs": [
    {
     "data": {
      "text/plain": [
       "{'result_index': 0,\n",
       " 'results': [{'final': True,\n",
       "   'alternatives': [{'transcript': 'Mike Cordell infection might Cordell infection ',\n",
       "     'confidence': 0.33}]}]}"
      ]
     },
     "execution_count": 8,
     "metadata": {},
     "output_type": "execute_result"
    }
   ],
   "source": [
    "speech_recognition_results=recognize_audio(path_audio_file='MI.wav')\n",
    "speech_recognition_results"
   ]
  },
  {
   "cell_type": "code",
   "execution_count": 9,
   "metadata": {},
   "outputs": [
    {
     "data": {
      "text/plain": [
       "{'result_index': 0,\n",
       " 'results': [{'final': True,\n",
       "   'alternatives': [{'transcript': 'Myocardial Infarction ',\n",
       "     'confidence': 0.85,\n",
       "     'language_model_source': 'GrammarSymptoms-xml'}],\n",
       "   'word_alternatives': [{'start_time': 1.89,\n",
       "     'end_time': 2.69,\n",
       "     'alternatives': [{'word': 'Infarction', 'confidence': 1.0}]}]},\n",
       "  {'final': True,\n",
       "   'alternatives': [{'transcript': 'Myocardial Infarction ',\n",
       "     'confidence': 0.85,\n",
       "     'language_model_source': 'GrammarSymptoms-xml'}],\n",
       "   'word_alternatives': [{'start_time': 3.5,\n",
       "     'end_time': 4.19,\n",
       "     'alternatives': [{'word': 'Myocardial', 'confidence': 1.0}]},\n",
       "    {'start_time': 4.22,\n",
       "     'end_time': 4.97,\n",
       "     'alternatives': [{'word': 'Infarction', 'confidence': 1.0}]}]}]}"
      ]
     },
     "execution_count": 9,
     "metadata": {},
     "output_type": "execute_result"
    }
   ],
   "source": [
    "speech_recognition_results=recognize_audio(path_audio_file='MI.wav',grammar_name='GrammarSymptoms-xml')\n",
    "speech_recognition_results"
   ]
  },
  {
   "cell_type": "code",
   "execution_count": null,
   "metadata": {},
   "outputs": [],
   "source": []
  }
 ],
 "metadata": {
  "kernelspec": {
   "display_name": "Python 3 (ipykernel)",
   "language": "python",
   "name": "python3"
  },
  "language_info": {
   "codemirror_mode": {
    "name": "ipython",
    "version": 3
   },
   "file_extension": ".py",
   "mimetype": "text/x-python",
   "name": "python",
   "nbconvert_exporter": "python",
   "pygments_lexer": "ipython3",
   "version": "3.9.10"
  }
 },
 "nbformat": 4,
 "nbformat_minor": 4
}
